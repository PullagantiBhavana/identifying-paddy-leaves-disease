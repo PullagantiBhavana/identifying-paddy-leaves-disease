{
 "cells": [
  {
   "cell_type": "markdown",
   "metadata": {},
   "source": [
    "# MANUAL NET ARCHITECTURE"
   ]
  },
  {
   "cell_type": "code",
   "execution_count": null,
   "metadata": {},
   "outputs": [],
   "source": [
    "import warnings\n",
    "warnings.filterwarnings('ignore')"
   ]
  },
  {
   "cell_type": "code",
   "execution_count": null,
   "metadata": {},
   "outputs": [],
   "source": [
    "import os\n",
    "import glob\n",
    "import numpy as np\n",
    "\n",
    "from tensorflow.keras.preprocessing.image import ImageDataGenerator\n",
    "\n",
    "from tensorflow.keras.models import Sequential\n",
    "from PIL import Image\n",
    "\n",
    "from tensorflow.keras.layers import Convolution2D\n",
    "from tensorflow.keras.layers import MaxPooling2D\n",
    "from tensorflow.keras.layers import Flatten\n",
    "from tensorflow.keras.layers import Dense\n",
    "from tensorflow.keras.layers import Activation\n",
    "\n",
    "from keras.callbacks import ModelCheckpoint\n",
    "import matplotlib.pyplot as plt"
   ]
  },
  {
   "cell_type": "code",
   "execution_count": null,
   "metadata": {},
   "outputs": [],
   "source": [
    "bacterial_leaf_blight = 'DATASET/TRAIN/bacterial_leaf_blight'\n",
    "bacterial_leaf_streak = 'DATASET/TRAIN/bacterial_leaf_streak'\n",
    "bacterial_panicle_blight = 'DATASET/TRAIN/bacterial_panicle_blight'\n",
    "blast = 'DATASET/TRAIN/blast'\n",
    "brown_spot = 'DATASET/TRAIN/brown_spot'\n",
    "dead_heart = 'DATASET/TRAIN/dead_heart'\n",
    "downy_mildew = 'DATASET/TRAIN/downy_mildew'\n",
    "hispa = 'DATASET/TRAIN/hispa'\n",
    "normal = 'DATASET/TRAIN/normal'\n",
    "tungro = 'DATASET/TRAIN/tungro'"
   ]
  },
  {
   "cell_type": "code",
   "execution_count": null,
   "metadata": {},
   "outputs": [],
   "source": [
    "def plot_images(item_dir, n=6):\n",
    "    all_item_dir = os.listdir(item_dir)\n",
    "    item_files = [os.path.join(item_dir, file) for file in all_item_dir][:n]\n",
    "    \n",
    "    plt.figure(figsize=(80, 40))\n",
    "    for idx, img_path in enumerate(item_files):\n",
    "        plt.subplot(3, n, idx+1)\n",
    "        img = plt.imread(img_path)\n",
    "        plt.imshow(img, cmap='gray')\n",
    "        plt.axis('off')\n",
    "    \n",
    "    plt.tight_layout()\n",
    "    \n",
    "def image_details_print(data,path):\n",
    "    print('======== Images in: ', path)\n",
    "    for key,values in data.items():\n",
    "        print(key,':\\t', values)\n",
    "\n",
    "\n",
    "def images_details(path):\n",
    "    files=[f for f in glob.glob(path + \"**/*.*\", recursive=True)]\n",
    "    data={}\n",
    "    data['Images_count']=len(files)\n",
    "    data['Min_width']=10**100\n",
    "    data['Max_width']=0\n",
    "    data['Min_height']=10**100\n",
    "    data['Max_height']=0\n",
    "    \n",
    "    for f in files:\n",
    "        img=Image.open(f)\n",
    "        width,height=img.size\n",
    "        data['Min_width']=min(width,data['Min_width'])\n",
    "        data['Max_width']=max(width, data['Max_width'])\n",
    "        data['Min_height']=min(height, data['Min_height'])\n",
    "        data['Max_height']=max(height, data['Max_height'])\n",
    "        \n",
    "    image_details_print(data,path)"
   ]
  },
  {
   "cell_type": "code",
   "execution_count": null,
   "metadata": {},
   "outputs": [],
   "source": [
    "print(\"\")\n",
    "print(\"TRAINING DATA FOR bacterial_leaf_blight:\")\n",
    "print(\"\")\n",
    "images_details(bacterial_leaf_blight)\n",
    "print(\"\")\n",
    "plot_images(bacterial_leaf_blight, 10) "
   ]
  },
  {
   "cell_type": "code",
   "execution_count": null,
   "metadata": {},
   "outputs": [],
   "source": [
    "print(\"\")\n",
    "print(\"TRAINING DATA FOR bacterial_leaf_streak:\")\n",
    "print(\"\")\n",
    "images_details(bacterial_leaf_streak)\n",
    "print(\"\")\n",
    "plot_images(bacterial_leaf_streak, 10)"
   ]
  },
  {
   "cell_type": "code",
   "execution_count": null,
   "metadata": {},
   "outputs": [],
   "source": [
    "print(\"\")\n",
    "print(\"TRAINING DATA FOR bacterial_panicle_blight:\")\n",
    "print(\"\")\n",
    "images_details(bacterial_panicle_blight)\n",
    "print(\"\")\n",
    "plot_images(bacterial_panicle_blight, 10)"
   ]
  },
  {
   "cell_type": "code",
   "execution_count": null,
   "metadata": {},
   "outputs": [],
   "source": [
    "print(\"\")\n",
    "print(\"TRAINING DATA FOR hispa:\")\n",
    "print(\"\")\n",
    "images_details(hispa)\n",
    "print(\"\")\n",
    "plot_images(hispa, 10)"
   ]
  },
  {
   "cell_type": "code",
   "execution_count": null,
   "metadata": {},
   "outputs": [],
   "source": [
    "print(\"\")\n",
    "print(\"TRAINING DATA FOR dead_heart:\")\n",
    "print(\"\")\n",
    "images_details(dead_heart)\n",
    "print(\"\")\n",
    "plot_images(dead_heart, 10)"
   ]
  },
  {
   "cell_type": "code",
   "execution_count": null,
   "metadata": {},
   "outputs": [],
   "source": [
    "print(\"\")\n",
    "print(\"TRAINING DATA FOR tungro:\")\n",
    "print(\"\")\n",
    "images_details(tungro)\n",
    "print(\"\")\n",
    "plot_images(tungro, 10)"
   ]
  },
  {
   "cell_type": "code",
   "execution_count": null,
   "metadata": {},
   "outputs": [],
   "source": [
    "train_datagen=ImageDataGenerator(rescale=1./255,shear_range=0.2,zoom_range=0.2,horizontal_flip=True)\n",
    "training_set=train_datagen.flow_from_directory('dataset/train',target_size=(224,224),batch_size=32,class_mode='categorical')"
   ]
  },
  {
   "cell_type": "code",
   "execution_count": null,
   "metadata": {},
   "outputs": [],
   "source": [
    "test_datagen=ImageDataGenerator(rescale=1./255)\n",
    "test_set=test_datagen.flow_from_directory('dataset/test',target_size=(224,224),batch_size=32,class_mode='categorical')"
   ]
  },
  {
   "cell_type": "code",
   "execution_count": null,
   "metadata": {},
   "outputs": [],
   "source": [
    "Classifier=Sequential()\n",
    "Classifier.add(Convolution2D(32,(3,3),input_shape=(224,224,3),activation='relu'))\n",
    "Classifier.add(MaxPooling2D(pool_size=(2,2)))\n",
    "Classifier.add(Flatten())\n",
    "Classifier.add(Dense(38, activation='relu'))\n",
    "Classifier.add(Dense(10, activation='softmax'))\n",
    "Classifier.compile(optimizer='rmsprop',loss='categorical_crossentropy',metrics=['accuracy'])"
   ]
  },
  {
   "cell_type": "code",
   "execution_count": null,
   "metadata": {},
   "outputs": [],
   "source": [
    "model_path = \"MANUAL.h5\"\n",
    "\n",
    "callbacks = [\n",
    "    ModelCheckpoint(model_path, monitor='accuracy', verbose=1, save_best_only=True)\n",
    "]"
   ]
  },
  {
   "cell_type": "code",
   "execution_count": null,
   "metadata": {},
   "outputs": [],
   "source": [
    "epochs = 10\n",
    "batch_size = 512"
   ]
  },
  {
   "cell_type": "code",
   "execution_count": null,
   "metadata": {},
   "outputs": [],
   "source": [
    "#### Fitting the model\n",
    "history = Classifier.fit(\n",
    "           training_set, steps_per_epoch=training_set.samples // batch_size, \n",
    "           epochs=epochs, \n",
    "           validation_data=test_set,validation_steps=test_set.samples // batch_size,\n",
    "           callbacks=callbacks)"
   ]
  },
  {
   "cell_type": "code",
   "execution_count": null,
   "metadata": {},
   "outputs": [],
   "source": [
    "import matplotlib.pyplot as plt\n",
    "\n",
    "def graph():\n",
    "    #Plot training & validation accuracy values\n",
    "    plt.plot(history.history['accuracy'])\n",
    "    plt.plot(history.history['val_accuracy'])\n",
    "    plt.title('Model accuracy')\n",
    "    plt.ylabel('Accuracy')\n",
    "    plt.xlabel('Epoch')\n",
    "    plt.legend(['Train', 'Test'], loc='upper left')\n",
    "    plt.show()\n",
    "\n",
    "graph()"
   ]
  },
  {
   "cell_type": "code",
   "execution_count": null,
   "metadata": {},
   "outputs": [],
   "source": [
    "import matplotlib.pyplot as plt\n",
    "\n",
    "def graph():\n",
    "    plt.plot(history.history['loss'])\n",
    "    plt.plot(history.history['val_loss'])\n",
    "    plt.title('Model loss')\n",
    "    plt.ylabel('Loss')\n",
    "    plt.xlabel('Epoch')\n",
    "    plt.legend(['Train', 'Test'], loc='upper left')\n",
    "    plt.show()\n",
    "graph()"
   ]
  }
 ],
 "metadata": {
  "kernelspec": {
   "display_name": "Python 3 (ipykernel)",
   "language": "python",
   "name": "python3"
  },
  "language_info": {
   "codemirror_mode": {
    "name": "ipython",
    "version": 3
   },
   "file_extension": ".py",
   "mimetype": "text/x-python",
   "name": "python",
   "nbconvert_exporter": "python",
   "pygments_lexer": "ipython3",
   "version": "3.11.5"
  }
 },
 "nbformat": 4,
 "nbformat_minor": 2
}
